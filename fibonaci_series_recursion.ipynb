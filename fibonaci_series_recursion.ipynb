{
 "cells": [
  {
   "cell_type": "markdown",
   "id": "ba4e86d8",
   "metadata": {},
   "source": [
    "<center>Fibonacci Series</center>"
   ]
  },
  {
   "cell_type": "code",
   "execution_count": 1,
   "id": "ba8b98b9",
   "metadata": {},
   "outputs": [
    {
     "name": "stdout",
     "output_type": "stream",
     "text": [
      "Enter the limit\t10\n",
      "----Fibbonacci Series----\n",
      "-1\n",
      "0\n",
      "1\n",
      "2\n",
      "3\n",
      "5\n",
      "8\n",
      "13\n",
      "21\n",
      "34\n",
      "55\n"
     ]
    }
   ],
   "source": [
    " def fib(n,f1,f2):\n",
    "        if n>=2:\n",
    "            f=f1+f2 \n",
    "            print(f) \n",
    "            f1=f2 \n",
    "            f2=f \n",
    "            n=n-1 \n",
    "            fib(n,f1,f2) \n",
    "    \n",
    "n=int(input(\"Enter the limit\\t\")) \n",
    "print(\"----Fibbonacci Series----\\n-1\\n0\") \n",
    "fib(n,0,1) "
   ]
  },
  {
   "cell_type": "code",
   "execution_count": null,
   "id": "5489ca91",
   "metadata": {},
   "outputs": [],
   "source": []
  }
 ],
 "metadata": {
  "kernelspec": {
   "display_name": "Python 3",
   "language": "python",
   "name": "python3"
  },
  "language_info": {
   "codemirror_mode": {
    "name": "ipython",
    "version": 3
   },
   "file_extension": ".py",
   "mimetype": "text/x-python",
   "name": "python",
   "nbconvert_exporter": "python",
   "pygments_lexer": "ipython3",
   "version": "3.8.8"
  }
 },
 "nbformat": 4,
 "nbformat_minor": 5
}

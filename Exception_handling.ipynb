{
 "cells": [
  {
   "cell_type": "code",
   "execution_count": 1,
   "id": "2304c4bc",
   "metadata": {},
   "outputs": [],
   "source": [
    "#some Exception Handling in python"
   ]
  },
  {
   "cell_type": "code",
   "execution_count": 2,
   "id": "51fbe3c5",
   "metadata": {},
   "outputs": [
    {
     "name": "stdout",
     "output_type": "stream",
     "text": [
      "value Error\n"
     ]
    }
   ],
   "source": [
    "try:\n",
    "    int('dog')\n",
    "except:\n",
    "    print(\"value Error\")"
   ]
  },
  {
   "cell_type": "code",
   "execution_count": 3,
   "id": "8beff2ab",
   "metadata": {},
   "outputs": [
    {
     "name": "stdout",
     "output_type": "stream",
     "text": [
      "yes ,this is error name 'C' is not defined\n"
     ]
    }
   ],
   "source": [
    "try:\n",
    "    a=12\n",
    "    b=34\n",
    "    c=23\n",
    "    print(C)\n",
    "except NameError as e:\n",
    "    print(\"yes ,this is error\",e)"
   ]
  },
  {
   "cell_type": "code",
   "execution_count": 4,
   "id": "1997fc65",
   "metadata": {},
   "outputs": [
    {
     "name": "stdout",
     "output_type": "stream",
     "text": [
      "yes ,this is error division by zero\n"
     ]
    }
   ],
   "source": [
    "try:\n",
    "    a=12\n",
    "    b=0\n",
    "    mul=a/b\n",
    "except ZeroDivisionError as e:\n",
    "    print(\"yes ,this is error\",e)"
   ]
  },
  {
   "cell_type": "code",
   "execution_count": 5,
   "id": "8cdb986c",
   "metadata": {},
   "outputs": [
    {
     "name": "stdout",
     "output_type": "stream",
     "text": [
      "yes ,this is error unsupported operand type(s) for +: 'int' and 'str'\n"
     ]
    }
   ],
   "source": [
    "try:\n",
    "    a=12\n",
    "    b='Dog'\n",
    "    combine=a+b\n",
    "except TypeError as e:\n",
    "    print(\"yes ,this is error\",e)"
   ]
  },
  {
   "cell_type": "code",
   "execution_count": 6,
   "id": "71e1d1c0",
   "metadata": {},
   "outputs": [
    {
     "name": "stdout",
     "output_type": "stream",
     "text": [
      "12\n",
      "yes ,this is error invalid literal for int() with base 10: 'Dog'\n"
     ]
    }
   ],
   "source": [
    "try:\n",
    "    a=12.09\n",
    "    b='Dog'\n",
    "    a1=int(a)\n",
    "    print(a1)\n",
    "    b1=int(b)\n",
    "except ValueError as e:\n",
    "    print(\"yes ,this is error\",e)"
   ]
  },
  {
   "cell_type": "code",
   "execution_count": 7,
   "id": "be7b9712",
   "metadata": {},
   "outputs": [
    {
     "name": "stdout",
     "output_type": "stream",
     "text": [
      "yes ,this is error [Errno 2] No such file or directory: 'd:/s1.txt'\n"
     ]
    }
   ],
   "source": [
    "try:\n",
    "    file=open(\"d:/s1.txt\",'r')\n",
    "except FileNotFoundError as e:\n",
    "    print(\"yes ,this is error\",e)"
   ]
  },
  {
   "cell_type": "code",
   "execution_count": null,
   "id": "2217b4e3",
   "metadata": {},
   "outputs": [],
   "source": []
  }
 ],
 "metadata": {
  "kernelspec": {
   "display_name": "Python 3",
   "language": "python",
   "name": "python3"
  },
  "language_info": {
   "codemirror_mode": {
    "name": "ipython",
    "version": 3
   },
   "file_extension": ".py",
   "mimetype": "text/x-python",
   "name": "python",
   "nbconvert_exporter": "python",
   "pygments_lexer": "ipython3",
   "version": "3.8.8"
  }
 },
 "nbformat": 4,
 "nbformat_minor": 5
}

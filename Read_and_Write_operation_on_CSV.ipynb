{
 "cells": [
  {
   "cell_type": "code",
   "execution_count": 2,
   "id": "cbe7002f",
   "metadata": {},
   "outputs": [
    {
     "name": "stdout",
     "output_type": "stream",
     "text": [
      "['Employee_id', 'Name', 'Designation', 'Salary']\n",
      "['104', 'jason', 'manager', '40000']\n",
      "['105', 'Shashi', 'clerk', '25000']\n",
      "['106', 'Tharoor', 'Developer', '35000']\n"
     ]
    }
   ],
   "source": [
    "import csv \n",
    "with open(\"D:\\myfile.csv\",'w',encoding=\"utf8\",newline='')as f1:   \n",
    "    filewriter=csv.writer(f1)  \n",
    "    header=['Empid',\"empname\",\"designation\",\"salary\"]\n",
    "    filewriter.writerow(['Employee_id','Name','Designation','Salary'])  \n",
    "    data=[[104,'jason','manager',40000],  \n",
    "    [105,'Shashi','clerk',25000],    \n",
    "    [106,'Tharoor','Developer',35000]] \n",
    "    filewriter.writerows(data)\n",
    "with open(\"D:\\myfile.csv\",'r')as f1: \n",
    "    filereader=csv.reader(f1)    \n",
    "    for r in filereader:              \n",
    "            print(r) \n",
    " \n"
   ]
  },
  {
   "cell_type": "code",
   "execution_count": null,
   "id": "453e274f",
   "metadata": {},
   "outputs": [],
   "source": []
  }
 ],
 "metadata": {
  "kernelspec": {
   "display_name": "Python 3",
   "language": "python",
   "name": "python3"
  },
  "language_info": {
   "codemirror_mode": {
    "name": "ipython",
    "version": 3
   },
   "file_extension": ".py",
   "mimetype": "text/x-python",
   "name": "python",
   "nbconvert_exporter": "python",
   "pygments_lexer": "ipython3",
   "version": "3.8.8"
  }
 },
 "nbformat": 4,
 "nbformat_minor": 5
}

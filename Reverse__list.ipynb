{
 "cells": [
  {
   "cell_type": "code",
   "execution_count": 1,
   "id": "638bfdfb",
   "metadata": {},
   "outputs": [
    {
     "name": "stdout",
     "output_type": "stream",
     "text": [
      "Reverse a List without Using Built-in Meathod\n",
      "Enter the range of elements:5\n",
      "Enter  5  Elements\n",
      "23\n",
      "67\n",
      "89\n",
      "34\n",
      "90\n",
      "Before Reverse ['23', '67', '89', '34', '90']\n",
      "After Reverse ['90', '34', '89', '67', '23']\n"
     ]
    }
   ],
   "source": [
    "print(\"Reverse a List without Using Built-in Meathod\");\n",
    "num = []\n",
    "n=int(input(\"Enter the range of elements:\"))\n",
    "print(\"Enter \",n,\" Elements\")\n",
    "for i in range(0,n):\n",
    "    num.append(input())\n",
    "print('Before Reverse',num)\n",
    "l=int(len(num))\n",
    "for i in range(int(l/2)):\n",
    "    n=num[i]\n",
    "    num[i]=num[l-i-1]\n",
    "    num[l-i-1]=n\n",
    "print('After Reverse',num)\n"
   ]
  },
  {
   "cell_type": "code",
   "execution_count": null,
   "id": "7ca06fe6",
   "metadata": {},
   "outputs": [],
   "source": []
  }
 ],
 "metadata": {
  "kernelspec": {
   "display_name": "Python 3",
   "language": "python",
   "name": "python3"
  },
  "language_info": {
   "codemirror_mode": {
    "name": "ipython",
    "version": 3
   },
   "file_extension": ".py",
   "mimetype": "text/x-python",
   "name": "python",
   "nbconvert_exporter": "python",
   "pygments_lexer": "ipython3",
   "version": "3.8.8"
  }
 },
 "nbformat": 4,
 "nbformat_minor": 5
}

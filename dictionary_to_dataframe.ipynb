{
 "cells": [
  {
   "cell_type": "code",
   "execution_count": null,
   "id": "4f1abbf3",
   "metadata": {},
   "outputs": [],
   "source": [
    "# Convert dictionary to panda data_frame in python"
   ]
  },
  {
   "cell_type": "markdown",
   "id": "ca2a2a77",
   "metadata": {},
   "source": [
    "Steps:<br><br>\n",
    "    1) create dictionary.<br>\n",
    "    2) import panda library<br>\n",
    "    3) convert dictionary to data_frame using pd.DataFrame() method.<br><br>\n",
    "    "
   ]
  },
  {
   "cell_type": "code",
   "execution_count": 2,
   "id": "3b935253",
   "metadata": {},
   "outputs": [
    {
     "data": {
      "text/plain": [
       "{'roll no': [92, 34, 56, 67],\n",
       " 'Name': ['abi', 'appu', 'rohan', 'david'],\n",
       " 'class': ['2nd', '1st', '2nd', '3rd']}"
      ]
     },
     "execution_count": 2,
     "metadata": {},
     "output_type": "execute_result"
    }
   ],
   "source": [
    "student"
   ]
  },
  {
   "cell_type": "code",
   "execution_count": 8,
   "id": "a0a008d6",
   "metadata": {},
   "outputs": [],
   "source": [
    "import pandas as pd\n",
    "std=pd.DataFrame(student)"
   ]
  },
  {
   "cell_type": "code",
   "execution_count": 9,
   "id": "ae0a9c5a",
   "metadata": {},
   "outputs": [
    {
     "name": "stdout",
     "output_type": "stream",
     "text": [
      "   roll no   Name class\n",
      "0       92    abi   2nd\n",
      "1       34   appu   1st\n",
      "2       56  rohan   2nd\n",
      "3       67  david   3rd\n"
     ]
    }
   ],
   "source": [
    "print(std)"
   ]
  },
  {
   "cell_type": "code",
   "execution_count": null,
   "id": "7e3fb3be",
   "metadata": {},
   "outputs": [],
   "source": []
  }
 ],
 "metadata": {
  "kernelspec": {
   "display_name": "Python 3",
   "language": "python",
   "name": "python3"
  },
  "language_info": {
   "codemirror_mode": {
    "name": "ipython",
    "version": 3
   },
   "file_extension": ".py",
   "mimetype": "text/x-python",
   "name": "python",
   "nbconvert_exporter": "python",
   "pygments_lexer": "ipython3",
   "version": "3.8.10"
  }
 },
 "nbformat": 4,
 "nbformat_minor": 5
}
